{
  "nbformat": 4,
  "nbformat_minor": 0,
  "metadata": {
    "colab": {
      "name": "Capstone_project_1_Csaba.ipynb",
      "provenance": [],
      "collapsed_sections": []
    },
    "kernelspec": {
      "name": "python3",
      "display_name": "Python 3"
    }
  },
  "cells": [
    {
      "cell_type": "code",
      "metadata": {
        "id": "QFyIcoSEG4T4"
      },
      "source": [
        "#import libraries needed for the analysis\n",
        "import numpy as np\n",
        "import pandas as pd\n",
        "from scipy import stats\n",
        "import seaborn as sns\n",
        "import matplotlib.pyplot as plt"
      ],
      "execution_count": null,
      "outputs": []
    },
    {
      "cell_type": "code",
      "metadata": {
        "id": "qXMMnRyBHEfI",
        "outputId": "9db0d15f-a7bf-44a1-99f9-e721076daacc",
        "colab": {
          "base_uri": "https://localhost:8080/",
          "height": 731
        }
      },
      "source": [
        "#import dataset\n",
        "url = 'https://raw.githubusercontent.com/kcsaba92/my_csv_files/master/HR-Employee-Attrition.csv'\n",
        "df = pd.read_csv(url)\n",
        "#lower case column names to make it easier to read and manipulate data\n",
        "df.columns = df.columns.str.lower()\n",
        "#print info to see columns, check for null values\n",
        "df.info()"
      ],
      "execution_count": null,
      "outputs": [
        {
          "output_type": "stream",
          "text": [
            "<class 'pandas.core.frame.DataFrame'>\n",
            "RangeIndex: 1470 entries, 0 to 1469\n",
            "Data columns (total 35 columns):\n",
            " #   Column                    Non-Null Count  Dtype \n",
            "---  ------                    --------------  ----- \n",
            " 0   age                       1470 non-null   int64 \n",
            " 1   attrition                 1470 non-null   object\n",
            " 2   businesstravel            1470 non-null   object\n",
            " 3   dailyrate                 1470 non-null   int64 \n",
            " 4   department                1470 non-null   object\n",
            " 5   distancefromhome          1470 non-null   int64 \n",
            " 6   education                 1470 non-null   int64 \n",
            " 7   educationfield            1470 non-null   object\n",
            " 8   employeecount             1470 non-null   int64 \n",
            " 9   employeenumber            1470 non-null   int64 \n",
            " 10  environmentsatisfaction   1470 non-null   int64 \n",
            " 11  gender                    1470 non-null   object\n",
            " 12  hourlyrate                1470 non-null   int64 \n",
            " 13  jobinvolvement            1470 non-null   int64 \n",
            " 14  joblevel                  1470 non-null   int64 \n",
            " 15  jobrole                   1470 non-null   object\n",
            " 16  jobsatisfaction           1470 non-null   int64 \n",
            " 17  maritalstatus             1470 non-null   object\n",
            " 18  monthlyincome             1470 non-null   int64 \n",
            " 19  monthlyrate               1470 non-null   int64 \n",
            " 20  numcompaniesworked        1470 non-null   int64 \n",
            " 21  over18                    1470 non-null   object\n",
            " 22  overtime                  1470 non-null   object\n",
            " 23  percentsalaryhike         1470 non-null   int64 \n",
            " 24  performancerating         1470 non-null   int64 \n",
            " 25  relationshipsatisfaction  1470 non-null   int64 \n",
            " 26  standardhours             1470 non-null   int64 \n",
            " 27  stockoptionlevel          1470 non-null   int64 \n",
            " 28  totalworkingyears         1470 non-null   int64 \n",
            " 29  trainingtimeslastyear     1470 non-null   int64 \n",
            " 30  worklifebalance           1470 non-null   int64 \n",
            " 31  yearsatcompany            1470 non-null   int64 \n",
            " 32  yearsincurrentrole        1470 non-null   int64 \n",
            " 33  yearssincelastpromotion   1470 non-null   int64 \n",
            " 34  yearswithcurrmanager      1470 non-null   int64 \n",
            "dtypes: int64(26), object(9)\n",
            "memory usage: 402.1+ KB\n"
          ],
          "name": "stdout"
        }
      ]
    },
    {
      "cell_type": "code",
      "metadata": {
        "id": "cu328O3SHHKR",
        "outputId": "a69ee917-1fb0-4a0c-e01d-8972e5851c39",
        "colab": {
          "base_uri": "https://localhost:8080/",
          "height": 51
        }
      },
      "source": [
        "#since I am going to compare the income of women and man, I split the data into female and male\n",
        "female = df[(df['gender'] == 'Female')]\n",
        "print(female.shape)\n",
        "\n",
        "male = df[(df['gender'] == 'Male')]\n",
        "print(male.shape)\n",
        "#I am calling shape to see how many samples each group has"
      ],
      "execution_count": null,
      "outputs": [
        {
          "output_type": "stream",
          "text": [
            "(588, 35)\n",
            "(882, 35)\n"
          ],
          "name": "stdout"
        }
      ]
    },
    {
      "cell_type": "code",
      "metadata": {
        "id": "Q8FZFndlHI22",
        "outputId": "c53b344d-0534-4d05-d1f2-f85a9349deda",
        "colab": {
          "base_uri": "https://localhost:8080/",
          "height": 299
        }
      },
      "source": [
        "#we have less female samples than male, but the differnce is not too big\n",
        "#draw a histograms to see the distributions for monthly income\n",
        "plt.hist(female['monthlyincome'], alpha = .5, bins=50)\n",
        "plt.show()\n",
        "plt.hist(male['monthlyincome'], alpha = .5, bins=50)\n",
        "plt.show()\n",
        "#Also print stat descriptions to check skewness, and kurtosis\n",
        "print(stats.describe(female['monthlyincome']))\n",
        "print(stats.describe(male['monthlyincome']))"
      ],
      "execution_count": null,
      "outputs": [
        {
          "output_type": "display_data",
          "data": {
            "image/png": "[encoded data removed]",
            "text/plain": [
              "<Figure size 432x288 with 1 Axes>"
            ]
          },
          "metadata": {
            "tags": [],
            "needs_background": "light"
          }
        },
        {
          "output_type": "stream",
          "text": [
            "DescribeResult(nobs=588, minmax=(1129, 19973), mean=6686.566326530612, variance=22048739.251129925, skewness=1.265405982460292, kurtosis=0.6588763943837175)\n",
            "DescribeResult(nobs=882, minmax=(1009, 19999), mean=6380.507936507936, variance=22229872.540799595, skewness=1.4402980490941728, kurtosis=1.2428730146891933)\n"
          ],
          "name": "stdout"
        }
      ]
    },
    {
      "cell_type": "code",
      "metadata": {
        "id": "1C_2WTxOHLOS",
        "outputId": "3b16838c-c89a-4a3a-cf89-c46bdd4852e6",
        "colab": {
          "base_uri": "https://localhost:8080/",
          "height": 51
        }
      },
      "source": [
        "'''These are obviously not normal distributions, however a positevly skewed distribution is normal for income data \n",
        "since only few people makes almost 3 times as much as the average employee'''\n",
        "#Finally, I confirm non-norrmality with shapiro's test\n",
        "print(stats.shapiro(female['monthlyincome']))\n",
        "print(stats.shapiro(male['monthlyincome']))"
      ],
      "execution_count": null,
      "outputs": [
        {
          "output_type": "stream",
          "text": [
            "(0.8416616916656494, 9.378564564919968e-24)\n",
            "(0.8169718384742737, 1.709933327621381e-30)\n"
          ],
          "name": "stdout"
        }
      ]
    },
    {
      "cell_type": "code",
      "metadata": {
        "id": "Hj6wIiTvHNCl",
        "outputId": "d928730b-1fbc-4fc3-803e-91ddfe203108",
        "colab": {
          "base_uri": "https://localhost:8080/",
          "height": 34
        }
      },
      "source": [
        "#The distributions have similar variance, I have two independent variable, non-normal distribution, so I am going to run Mann-U Whitney test\n",
        "stats.mannwhitneyu(female['monthlyincome'], male['monthlyincome'])"
      ],
      "execution_count": null,
      "outputs": [
        {
          "output_type": "execute_result",
          "data": {
            "text/plain": [
              "MannwhitneyuResult(statistic=245722.5, pvalue=0.044208341633010594)"
            ]
          },
          "metadata": {
            "tags": []
          },
          "execution_count": 8
        }
      ]
    },
    {
      "cell_type": "code",
      "metadata": {
        "id": "5zBL6udyHO5v",
        "outputId": "92575a30-fa14-486d-a080-22a68b3353ed",
        "colab": {
          "base_uri": "https://localhost:8080/",
          "height": 34
        }
      },
      "source": [
        "#I have signifficant results, so I calculate here the effect size for Mann-U Whitney: p = U/(n1*n2)\n",
        "#first create variables for n1 and n2\n",
        "n1 = len(female['monthlyincome'])\n",
        "n2 = len(male['monthlyincome'])\n",
        "#I learned the Ustat value in the previous cell\n",
        "U = 245722.5\n",
        "\n",
        "p = U/(n1*n2)\n",
        "\n",
        "\n",
        "print(p)"
      ],
      "execution_count": null,
      "outputs": [
        {
          "output_type": "stream",
          "text": [
            "0.4738043176454255\n"
          ],
          "name": "stdout"
        }
      ]
    },
    {
      "cell_type": "code",
      "metadata": {
        "id": "jPjGynPIHQZY",
        "outputId": "c3856f72-10da-4003-a652-5f7cc7767f68",
        "colab": {
          "base_uri": "https://localhost:8080/",
          "height": 51
        }
      },
      "source": [
        "#There is a ~47% chance that a random picked individual from sample 1 is higher than in sample 2\n",
        "#To know which sample is higher I check the median for both female and male\n",
        "female_median = female['monthlyincome'].median()\n",
        "male_median = male['monthlyincome'].median()\n",
        "print(female_median)\n",
        "print(male_median)"
      ],
      "execution_count": null,
      "outputs": [
        {
          "output_type": "stream",
          "text": [
            "5081.5\n",
            "4837.5\n"
          ],
          "name": "stdout"
        }
      ]
    },
    {
      "cell_type": "markdown",
      "metadata": {
        "id": "2f_H7KH8HkDW"
      },
      "source": [
        "In conclusion, there is a statistical difference between the monthly income of women and men. The results show that \n",
        "women median earnings are higher than men. Also there is a 47% chance that if randomly compared a woman to a man \n",
        "from the two samples, the woman would make more money than her man counterpart."
      ]
    },
    {
      "cell_type": "code",
      "metadata": {
        "id": "P8wJNXTkPdb4",
        "outputId": "79bf1458-fa97-4421-aa6c-71164017dac3",
        "colab": {
          "base_uri": "https://localhost:8080/",
          "height": 279
        }
      },
      "source": [
        "import seaborn as sns\n",
        "\n",
        "ax = sns.pointplot(x=\"gender\", y=\"monthlyincome\", data=df, style=\"darkgrid\") "
      ],
      "execution_count": null,
      "outputs": [
        {
          "output_type": "display_data",
          "data": {
            "image/png": "[encoded data removed]",
            "text/plain": [
              "<Figure size 432x288 with 1 Axes>"
            ]
          },
          "metadata": {
            "tags": [],
            "needs_background": "light"
          }
        }
      ]
    }
  ]
}